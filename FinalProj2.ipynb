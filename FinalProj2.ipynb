{
  "nbformat": 4,
  "nbformat_minor": 0,
  "metadata": {
    "colab": {
      "provenance": [],
      "authorship_tag": "ABX9TyNSu2Il8gXAIJDTpnRwxLwP",
      "include_colab_link": true
    },
    "kernelspec": {
      "name": "python3",
      "display_name": "Python 3"
    },
    "language_info": {
      "name": "python"
    }
  },
  "cells": [
    {
      "cell_type": "markdown",
      "metadata": {
        "id": "view-in-github",
        "colab_type": "text"
      },
      "source": [
        "<a href=\"https://colab.research.google.com/github/explcit00/Software-Engineering/blob/main/FinalProj2.ipynb\" target=\"_parent\"><img src=\"https://colab.research.google.com/assets/colab-badge.svg\" alt=\"Open In Colab\"/></a>"
      ]
    },
    {
      "cell_type": "code",
      "execution_count": null,
      "metadata": {
        "id": "xS_PKwYxMWna"
      },
      "outputs": [],
      "source": [
        "!pip install -q typing-extensions==4.5.0 openai tiktoken cohere kaleido gradio safetensors kornia facexlib yacs gfpgan"
      ]
    },
    {
      "cell_type": "code",
      "source": [
        "!pip install -qq langchain wget llama-index cohere llama-cpp-python"
      ],
      "metadata": {
        "id": "2VyR72p1Mq2A"
      },
      "execution_count": null,
      "outputs": []
    },
    {
      "cell_type": "code",
      "source": [
        "import wget\n",
        "\n",
        "def bar_custom(current, total, width=80):\n",
        "    print(\"Downloading %d%% [%d / %d] bytes\" % (current / total * 100, current, total))\n",
        "\n",
        "model_url = \"https://huggingface.co/TheBloke/Llama-2-7B-Chat-GGUF/resolve/main/llama-2-7b-chat.Q2_K.gguf\"\n",
        "wget.download(model_url, bar=bar_custom)\n"
      ],
      "metadata": {
        "id": "VAessN2iMyJP"
      },
      "execution_count": null,
      "outputs": []
    },
    {
      "cell_type": "code",
      "source": [
        "!pip -q install streamlit"
      ],
      "metadata": {
        "id": "EduXoY9DM18N"
      },
      "execution_count": null,
      "outputs": []
    },
    {
      "cell_type": "code",
      "source": [
        "%%writefile app.py\n",
        "import streamlit as st\n",
        "from llama_index import (\n",
        "  SimpleDirectoryReader,\n",
        "  VectorStoreIndex,\n",
        "  ServiceContext,\n",
        ")\n",
        "from llama_index.llms import LlamaCPP\n",
        "from llama_index.llms.llama_utils import (\n",
        "  messages_to_prompt,\n",
        "  completion_to_prompt,\n",
        ")\n",
        "from langchain.schema import(SystemMessage, HumanMessage, AIMessage)\n",
        "\n",
        "def init_page() -> None:\n",
        "  st.set_page_config(\n",
        "    page_title=\"Personal Chatbot\"\n",
        "  )\n",
        "  st.header(\"Persoanl Chatbot\")\n",
        "  st.sidebar.title(\"Options\")\n",
        "\n",
        "def select_llm() -> LlamaCPP:\n",
        "  return LlamaCPP(\n",
        "    model_path=\"/content/llama-2-7b-chat.Q2_K.gguf\",\n",
        "    temperature=0.1,\n",
        "    max_new_tokens=500,\n",
        "    context_window=3900,\n",
        "    generate_kwargs={},\n",
        "    model_kwargs={\"n_gpu_layers\":1},\n",
        "    messages_to_prompt=messages_to_prompt,\n",
        "    completion_to_prompt=completion_to_prompt,\n",
        "    verbose=True,\n",
        "  )\n",
        "\n",
        "def init_messages() -> None:\n",
        "  clear_button = st.sidebar.button(\"Clear Conversation\", key=\"clear\")\n",
        "  if clear_button or \"messages\" not in st.session_state:\n",
        "    st.session_state.messages = [\n",
        "      SystemMessage(\n",
        "        content=\"you are a helpful AI assistant. Reply your answer in markdown format.\"\n",
        "      )\n",
        "    ]\n",
        "\n",
        "def get_answer(llm, messages) -> str:\n",
        "  response = llm.complete(messages)\n",
        "  return response.text\n",
        "\n",
        "def main() -> None:\n",
        "  init_page()\n",
        "  llm = select_llm()\n",
        "  init_messages()\n",
        "\n",
        "  if user_input := st.chat_input(\"Input your question!\"):\n",
        "    st.session_state.messages.append(HumanMessage(content=user_input))\n",
        "    with st.spinner(\"Bot is typing ...\"):\n",
        "      answer = get_answer(llm, user_input)\n",
        "      print(answer)\n",
        "    st.session_state.messages.append(AIMessage(content=answer))\n",
        "\n",
        "\n",
        "  messages = st.session_state.get(\"messages\", [])\n",
        "  for message in messages:\n",
        "    if isinstance(message, AIMessage):\n",
        "      with st.chat_message(\"assistant\"):\n",
        "        st.markdown(message.content)\n",
        "    elif isinstance(message, HumanMessage):\n",
        "      with st.chat_message(\"user\"):\n",
        "        st.markdown(message.content)\n",
        "\n",
        "if __name__ == \"__main__\":\n",
        "  main()"
      ],
      "metadata": {
        "id": "DWJsBVKdM3Wt"
      },
      "execution_count": null,
      "outputs": []
    },
    {
      "cell_type": "code",
      "source": [
        "!streamlit run app.py & npx localtunnel --port 8501"
      ],
      "metadata": {
        "colab": {
          "base_uri": "https://localhost:8080/"
        },
        "id": "c9ps86YUN5ag",
        "outputId": "a9d1ba7b-33fa-4275-e132-a778960bfc6c"
      },
      "execution_count": null,
      "outputs": [
        {
          "output_type": "stream",
          "name": "stdout",
          "text": [
            "/bin/bash: line 1: streamlit: command not found\n",
            "\u001b[K\u001b[?25hnpx: installed 22 in 3.432s\n",
            "your url is: https://funny-rings-find.loca.lt\n"
          ]
        }
      ]
    }
  ]
}